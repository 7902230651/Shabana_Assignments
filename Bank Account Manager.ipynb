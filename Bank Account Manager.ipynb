{
 "cells": [
  {
   "cell_type": "code",
   "execution_count": 20,
   "id": "36c0b78e-5c1e-41f8-99b5-eaf447b27606",
   "metadata": {},
   "outputs": [],
   "source": [
    "balance = 0.0  # Initial balance\n",
    "\n",
    "def deposit(amount):\n",
    "    global balance\n",
    "    balance = balance+amount\n",
    "    print(f\"Deposited: Rs.{amount}\")\n",
    "\n",
    "def withdraw(amount):\n",
    "    global balance\n",
    "    if amount <= balance:\n",
    "        balance = balance-amount\n",
    "        print(f\"Withdrawn: Rs.{amount}\")\n",
    "    else:\n",
    "        print(\"Not enough balance!\")\n",
    "\n",
    "def check_balance():\n",
    "    print(f\"Balance: Rs.{balance}\")"
   ]
  },
  {
   "cell_type": "code",
   "execution_count": 22,
   "id": "914ab0d7-97f3-4bbf-9e32-996a085ee581",
   "metadata": {},
   "outputs": [
    {
     "name": "stdout",
     "output_type": "stream",
     "text": [
      "Deposited: Rs.1000\n"
     ]
    }
   ],
   "source": [
    "deposit(1000)"
   ]
  },
  {
   "cell_type": "code",
   "execution_count": 24,
   "id": "3d2f143e-79df-4931-b42d-4040f5836e92",
   "metadata": {},
   "outputs": [
    {
     "name": "stdout",
     "output_type": "stream",
     "text": [
      "Withdrawn: Rs.500\n"
     ]
    }
   ],
   "source": [
    "withdraw(500)"
   ]
  },
  {
   "cell_type": "code",
   "execution_count": 28,
   "id": "f29c0178-e2c2-471d-93ec-4a23c14d7aca",
   "metadata": {},
   "outputs": [
    {
     "name": "stdout",
     "output_type": "stream",
     "text": [
      "Balance: Rs.500.0\n"
     ]
    }
   ],
   "source": [
    "check_balance()"
   ]
  },
  {
   "cell_type": "code",
   "execution_count": null,
   "id": "dfc1319b-aa5d-4035-af8f-363e5e860020",
   "metadata": {},
   "outputs": [],
   "source": []
  }
 ],
 "metadata": {
  "kernelspec": {
   "display_name": "Python 3 (ipykernel)",
   "language": "python",
   "name": "python3"
  },
  "language_info": {
   "codemirror_mode": {
    "name": "ipython",
    "version": 3
   },
   "file_extension": ".py",
   "mimetype": "text/x-python",
   "name": "python",
   "nbconvert_exporter": "python",
   "pygments_lexer": "ipython3",
   "version": "3.12.4"
  }
 },
 "nbformat": 4,
 "nbformat_minor": 5
}
