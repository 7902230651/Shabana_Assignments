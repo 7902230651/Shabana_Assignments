{
 "cells": [
  {
   "cell_type": "code",
   "execution_count": 14,
   "id": "d74ba0c9-40ff-4430-b6b3-1578ccba4c30",
   "metadata": {},
   "outputs": [
    {
     "name": "stdin",
     "output_type": "stream",
     "text": [
      "Enter the temperature for day 1:  25\n",
      "Enter the humidity for day 1:  55\n",
      "Enter the temperature for day 2:  32\n",
      "Enter the humidity for day 2:  50\n",
      "Enter the temperature for day 3:  28\n",
      "Enter the humidity for day 3:  75\n"
     ]
    },
    {
     "name": "stdout",
     "output_type": "stream",
     "text": [
      "Weather Data Analysis:\n",
      "Day 1: Temp = 25 , Humidity = 55 , Condition = Cloudy\n",
      "Day 2: Temp = 32 , Humidity = 50 , Condition = Sunny\n",
      "Day 3: Temp = 28 , Humidity = 75 , Condition = Rainy\n",
      "Average Temperature: 28.333333333333332\n",
      "Average Humidity: 60.0\n"
     ]
    }
   ],
   "source": [
    "\n",
    "def determine_weather(temp, humidity):\n",
    "    if temp > 30 and humidity < 60:\n",
    "        return \"Sunny\"\n",
    "    elif humidity > 70:\n",
    "        return \"Rainy\"\n",
    "    else:\n",
    "        return \"Cloudy\"\n",
    "\n",
    "\n",
    "def calculate_average(data):\n",
    "    return sum(data) / len(data)\n",
    "\n",
    "\n",
    "temp1 = int(input(\"Enter the temperature for day 1: \"))\n",
    "humidity1 = int(input(\"Enter the humidity for day 1: \"))\n",
    "temp2 = int(input(\"Enter the temperature for day 2: \"))\n",
    "humidity2 = int(input(\"Enter the humidity for day 2: \"))\n",
    "temp3 = int(input(\"Enter the temperature for day 3: \"))\n",
    "humidity3 = int(input(\"Enter the humidity for day 3: \"))\n",
    "\n",
    "\n",
    "temperatures = [temp1, temp2, temp3]\n",
    "humidity_levels = [humidity1, humidity2, humidity3]\n",
    "\n",
    "\n",
    "average_temp = calculate_average(temperatures)\n",
    "average_humidity = calculate_average(humidity_levels)\n",
    "\n",
    "\n",
    "print(\"Weather Data Analysis:\")\n",
    "print(\"Day 1: Temp =\", temp1, \", Humidity =\", humidity1, \", Condition =\", determine_weather(temp1, humidity1))\n",
    "print(\"Day 2: Temp =\", temp2, \", Humidity =\", humidity2, \", Condition =\", determine_weather(temp2, humidity2))\n",
    "print(\"Day 3: Temp =\", temp3, \", Humidity =\", humidity3, \", Condition =\", determine_weather(temp3, humidity3))\n",
    "\n",
    "\n",
    "print(\"Average Temperature:\", average_temp)\n",
    "print(\"Average Humidity:\", average_humidity)\n"
   ]
  },
  {
   "cell_type": "code",
   "execution_count": null,
   "id": "1e025e7f-18a3-4681-80b5-aab88bd672a4",
   "metadata": {},
   "outputs": [],
   "source": []
  }
 ],
 "metadata": {
  "kernelspec": {
   "display_name": "Python 3 (ipykernel)",
   "language": "python",
   "name": "python3"
  },
  "language_info": {
   "codemirror_mode": {
    "name": "ipython",
    "version": 3
   },
   "file_extension": ".py",
   "mimetype": "text/x-python",
   "name": "python",
   "nbconvert_exporter": "python",
   "pygments_lexer": "ipython3",
   "version": "3.12.4"
  }
 },
 "nbformat": 4,
 "nbformat_minor": 5
}
